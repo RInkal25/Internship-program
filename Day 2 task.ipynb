{
 "cells": [
  {
   "cell_type": "markdown",
   "metadata": {},
   "source": [
    "# List"
   ]
  },
  {
   "cell_type": "markdown",
   "metadata": {},
   "source": [
    "### 1: append()"
   ]
  },
  {
   "cell_type": "code",
   "execution_count": 1,
   "metadata": {},
   "outputs": [
    {
     "name": "stdout",
     "output_type": "stream",
     "text": [
      "['Mango', 'Pineapple', 'Grapes', 'Watermelon']\n"
     ]
    }
   ],
   "source": [
    "Fruits = ['Mango', 'Pineapple', 'Grapes', 'Watermelon']\n",
    "print(Fruits)"
   ]
  },
  {
   "cell_type": "code",
   "execution_count": 3,
   "metadata": {},
   "outputs": [
    {
     "name": "stdout",
     "output_type": "stream",
     "text": [
      "['Mango', 'Pineapple', 'Grapes', 'Watermelon', 'Banana']\n"
     ]
    }
   ],
   "source": [
    "Fruits.append('Banana')\n",
    "print(Fruits)"
   ]
  },
  {
   "cell_type": "markdown",
   "metadata": {},
   "source": [
    "### 2: insert()"
   ]
  },
  {
   "cell_type": "code",
   "execution_count": 4,
   "metadata": {},
   "outputs": [
    {
     "name": "stdout",
     "output_type": "stream",
     "text": [
      "['English', 'Maths', 'Java', 'Python']\n"
     ]
    }
   ],
   "source": [
    "Subjects = ['English', 'Maths', 'Java', 'Python']\n",
    "print(Subjects)"
   ]
  },
  {
   "cell_type": "code",
   "execution_count": 5,
   "metadata": {},
   "outputs": [
    {
     "name": "stdout",
     "output_type": "stream",
     "text": [
      "['English', 'Maths', 'Scala', 'Java', 'Python']\n"
     ]
    }
   ],
   "source": [
    "Subjects.insert(2, 'Scala')\n",
    "print(Subjects)"
   ]
  },
  {
   "cell_type": "markdown",
   "metadata": {},
   "source": [
    "### 3: sum()"
   ]
  },
  {
   "cell_type": "code",
   "execution_count": 7,
   "metadata": {},
   "outputs": [
    {
     "name": "stdout",
     "output_type": "stream",
     "text": [
      "23\n",
      "252.25\n"
     ]
    }
   ],
   "source": [
    "Scores = [1, 3, 8, 5, 6]\n",
    "print(sum(Scores))\n",
    "\n",
    "Bill = [56.89, 78.02, 69, 48.34]\n",
    "print(sum(Bill))"
   ]
  },
  {
   "cell_type": "markdown",
   "metadata": {},
   "source": [
    "### 4: count()"
   ]
  },
  {
   "cell_type": "code",
   "execution_count": 9,
   "metadata": {},
   "outputs": [
    {
     "name": "stdout",
     "output_type": "stream",
     "text": [
      "3\n",
      "2\n"
     ]
    }
   ],
   "source": [
    "my_list = [1, 2, 5, 7, 9, 1, 1, 4, 6, 7, 3]\n",
    "\n",
    "# Counting occurence of element 1 in the list\n",
    "print(my_list.count(1))\n",
    "\n",
    "# Counting occurence of element 7 in the list\n",
    "print(my_list.count(7))\n"
   ]
  },
  {
   "cell_type": "markdown",
   "metadata": {},
   "source": [
    "### 5: Slicing and Indexing"
   ]
  },
  {
   "cell_type": "code",
   "execution_count": 17,
   "metadata": {},
   "outputs": [
    {
     "name": "stdout",
     "output_type": "stream",
     "text": [
      "[20, 40, 60]\n",
      "[10, 20, 30, 40, 50, 60]\n"
     ]
    }
   ],
   "source": [
    "list = [10, 20, 30, 40, 50, 60]\n",
    "print(list[1:6:2])\n",
    "\n",
    "print(list[:])   # Will print whole list"
   ]
  },
  {
   "cell_type": "markdown",
   "metadata": {},
   "source": [
    "# Set"
   ]
  },
  {
   "cell_type": "markdown",
   "metadata": {},
   "source": [
    "### 1: add()"
   ]
  },
  {
   "cell_type": "code",
   "execution_count": 19,
   "metadata": {},
   "outputs": [
    {
     "name": "stdout",
     "output_type": "stream",
     "text": [
      "{'Monika', 'Joe', 'Rachel'}\n",
      "{'Monika', 'Ross', 'Joe', 'Rachel'}\n"
     ]
    }
   ],
   "source": [
    "friends = {\"Joe\", \"Rachel\", \"Monika\"}\n",
    "print(friends)\n",
    "\n",
    "#updated set\n",
    "friends.add(\"Ross\")\n",
    "print(friends)"
   ]
  },
  {
   "cell_type": "markdown",
   "metadata": {},
   "source": [
    "### 2: union() "
   ]
  },
  {
   "cell_type": "code",
   "execution_count": 21,
   "metadata": {},
   "outputs": [
    {
     "name": "stdout",
     "output_type": "stream",
     "text": [
      "{'xyz', 'abc', 'p', 'r', 'pqr', 'o'}\n",
      "{'xyz', 'abc', 'p', 'r', 'pqr', 'o'}\n"
     ]
    }
   ],
   "source": [
    "family = {\"abc\", \"xyz\", \"pqr\"}\n",
    "people = {\"p\", \"o\", \"r\"}\n",
    "\n",
    "# Union using union() function\n",
    "human_being = family.union(people)\n",
    "print(human_being)\n",
    "\n",
    "# Union using '|' operator\n",
    "public = family|people\n",
    "print(public)"
   ]
  },
  {
   "cell_type": "markdown",
   "metadata": {},
   "source": [
    "### 3: Difference"
   ]
  },
  {
   "cell_type": "code",
   "execution_count": 24,
   "metadata": {},
   "outputs": [
    {
     "name": "stdout",
     "output_type": "stream",
     "text": [
      "{1, 2, 3}\n"
     ]
    }
   ],
   "source": [
    "set1 = {1, 2, 3}\n",
    "set2 = {4, 5, 6}\n",
    "\n",
    "set3 = set1.difference(set2)\n",
    "\n",
    "print(set3)"
   ]
  },
  {
   "cell_type": "markdown",
   "metadata": {},
   "source": [
    "### 4: clear()"
   ]
  },
  {
   "cell_type": "code",
   "execution_count": 3,
   "metadata": {},
   "outputs": [
    {
     "name": "stdout",
     "output_type": "stream",
     "text": [
      "set()\n"
     ]
    }
   ],
   "source": [
    "my_set = {10, 20, 30, 40, 50, 60}\n",
    "\n",
    "my_set.clear()\n",
    "print(my_set)   # set after using clear() function"
   ]
  },
  {
   "cell_type": "markdown",
   "metadata": {},
   "source": [
    "### 5: remove()"
   ]
  },
  {
   "cell_type": "code",
   "execution_count": 4,
   "metadata": {},
   "outputs": [
    {
     "name": "stdout",
     "output_type": "stream",
     "text": [
      "{2, 4, 6, 8, 10}\n"
     ]
    }
   ],
   "source": [
    "set1 = {2, 4, 5, 6, 8, 10}\n",
    "set1.remove(5)\n",
    "\n",
    "print(set1)"
   ]
  },
  {
   "cell_type": "markdown",
   "metadata": {},
   "source": [
    "# Dictionaries"
   ]
  },
  {
   "cell_type": "markdown",
   "metadata": {},
   "source": [
    "### 1: Adding element to the dictionary"
   ]
  },
  {
   "cell_type": "code",
   "execution_count": 5,
   "metadata": {},
   "outputs": [
    {
     "name": "stdout",
     "output_type": "stream",
     "text": [
      "{0: 'apple', 1: 'banana', 2: 'grapes', 4: 'strawberries'}\n"
     ]
    }
   ],
   "source": [
    "fruits = {0: 'apple', 1: 'banana', 2: 'grapes'}\n",
    "\n",
    "# adding new element to the dictionary\n",
    "fruits[4] = 'strawberries'\n",
    "print(fruits)"
   ]
  },
  {
   "cell_type": "markdown",
   "metadata": {},
   "source": [
    "### 2: Removing element from the dictionary"
   ]
  },
  {
   "cell_type": "code",
   "execution_count": 7,
   "metadata": {},
   "outputs": [
    {
     "name": "stdout",
     "output_type": "stream",
     "text": [
      "{1: 'Mumbai', 3: 'Calcutta', 4: 'Udaipur'}\n"
     ]
    }
   ],
   "source": [
    "cities = {1: 'Mumbai', 2: 'Delhi', 3: 'Calcutta', 4: 'Udaipur'}\n",
    "\n",
    "# removing specific element from the dictionary with the help of del function\n",
    "del cities[2]\n",
    "print(cities)"
   ]
  },
  {
   "cell_type": "markdown",
   "metadata": {},
   "source": [
    "### 3: get()"
   ]
  },
  {
   "cell_type": "code",
   "execution_count": 10,
   "metadata": {},
   "outputs": [
    {
     "name": "stdout",
     "output_type": "stream",
     "text": [
      "1234\n",
      "None\n"
     ]
    }
   ],
   "source": [
    "get_method = {'a': 1234, 'b': 3456, 'c': 5674}\n",
    "print(get_method.get('a'))\n",
    "print(get_method.get('d')) # will print none bcoz this key is not included in the dictionary."
   ]
  },
  {
   "cell_type": "markdown",
   "metadata": {},
   "source": [
    "### 4: Accessing element from the dictionary"
   ]
  },
  {
   "cell_type": "code",
   "execution_count": 12,
   "metadata": {},
   "outputs": [
    {
     "name": "stdout",
     "output_type": "stream",
     "text": [
      "Bonjour\n"
     ]
    }
   ],
   "source": [
    "greets = {1: 'Hello', 2: 'Bonjour', 3: 'Hola'}\n",
    "\n",
    "# accessing element by using key\n",
    "print(greets[2])"
   ]
  },
  {
   "cell_type": "markdown",
   "metadata": {},
   "source": [
    "### 5: popitem()"
   ]
  },
  {
   "cell_type": "code",
   "execution_count": 14,
   "metadata": {},
   "outputs": [
    {
     "name": "stdout",
     "output_type": "stream",
     "text": [
      "The new dictionary is: {1: 'Hello', 2: 'Everyone', 3: 'have', 4: 'a', 5: 'great'}\n",
      "Items that arbitrarily popped from the dictionary is: (6, 'day')\n"
     ]
    }
   ],
   "source": [
    "my_dict = {1: 'Hello', 2: 'Everyone', 3: 'have', 4: 'a', 5: 'great', 6: 'day'}\n",
    "\n",
    "pop_element = my_dict.popitem()\n",
    "print(f\"The new dictionary is: {my_dict}\")\n",
    "print(f\"Items that arbitrarily popped from the dictionary is: {pop_element}\")"
   ]
  },
  {
   "cell_type": "markdown",
   "metadata": {},
   "source": [
    "# Tuples"
   ]
  },
  {
   "cell_type": "markdown",
   "metadata": {},
   "source": [
    "### 1: len()"
   ]
  },
  {
   "cell_type": "code",
   "execution_count": 15,
   "metadata": {},
   "outputs": [
    {
     "name": "stdout",
     "output_type": "stream",
     "text": [
      "5\n"
     ]
    }
   ],
   "source": [
    "tuple1 = (9, 3, 0, 5, 9)\n",
    "print(len(tuple1))"
   ]
  },
  {
   "cell_type": "markdown",
   "metadata": {},
   "source": [
    "### 2: type()"
   ]
  },
  {
   "cell_type": "code",
   "execution_count": 16,
   "metadata": {},
   "outputs": [
    {
     "name": "stdout",
     "output_type": "stream",
     "text": [
      "<class 'tuple'>\n"
     ]
    }
   ],
   "source": [
    "cookie_flavor = ('vanilla', 'chocolate', 'blueberry', 'blackcurrent')\n",
    "print(type(cookie_flavor))"
   ]
  },
  {
   "cell_type": "markdown",
   "metadata": {},
   "source": [
    "### 3: Accessing tuple element"
   ]
  },
  {
   "cell_type": "code",
   "execution_count": 18,
   "metadata": {},
   "outputs": [
    {
     "name": "stdout",
     "output_type": "stream",
     "text": [
      "4\n"
     ]
    }
   ],
   "source": [
    "tup = ('cars', 3, True, 4, False, 'bike')\n",
    "print(tup[-3])"
   ]
  },
  {
   "cell_type": "markdown",
   "metadata": {},
   "source": [
    "### 4: Updating element inside the tuple"
   ]
  },
  {
   "cell_type": "code",
   "execution_count": 21,
   "metadata": {},
   "outputs": [
    {
     "name": "stdout",
     "output_type": "stream",
     "text": [
      "('cheeries', 'apple', 'pineapple')\n"
     ]
    }
   ],
   "source": [
    "# As we know, tuples are immutable or unchangeable. We cannot update elements of the tuples.\n",
    "# All we can do is to convert the tuple into the list, update it and then again convert it back to the tuple.\n",
    "\n",
    "item = ('cheeries', 'apple', 'banana')\n",
    "item_into_list = list(item)\n",
    "item_into_list[2] = 'pineapple'\n",
    "item = tuple(item_into_list)\n",
    "print(item) # thus we get changed items"
   ]
  },
  {
   "cell_type": "markdown",
   "metadata": {},
   "source": [
    "### 5: Joining two tuples"
   ]
  },
  {
   "cell_type": "code",
   "execution_count": 22,
   "metadata": {},
   "outputs": [
    {
     "name": "stdout",
     "output_type": "stream",
     "text": [
      "(1, 2, 3, 4, 5, 6, 7, 8, 9)\n"
     ]
    }
   ],
   "source": [
    "tup1 = (1, 2, 3)\n",
    "tup2 = (4, 5, 6)\n",
    "tup3 = (7, 8, 9)\n",
    "\n",
    "new_tuple = tup1 + tup2 + tup3\n",
    "print(new_tuple)"
   ]
  },
  {
   "cell_type": "code",
   "execution_count": null,
   "metadata": {},
   "outputs": [],
   "source": []
  }
 ],
 "metadata": {
  "kernelspec": {
   "display_name": "Python 3",
   "language": "python",
   "name": "python3"
  },
  "language_info": {
   "codemirror_mode": {
    "name": "ipython",
    "version": 3
   },
   "file_extension": ".py",
   "mimetype": "text/x-python",
   "name": "python",
   "nbconvert_exporter": "python",
   "pygments_lexer": "ipython3",
   "version": "3.8.3"
  }
 },
 "nbformat": 4,
 "nbformat_minor": 4
}
