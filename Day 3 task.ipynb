{
 "cells": [
  {
   "cell_type": "markdown",
   "metadata": {},
   "source": [
    "# Random Module functions"
   ]
  },
  {
   "cell_type": "markdown",
   "metadata": {},
   "source": [
    "### 1: random.random()"
   ]
  },
  {
   "cell_type": "code",
   "execution_count": 1,
   "metadata": {},
   "outputs": [
    {
     "name": "stdout",
     "output_type": "stream",
     "text": [
      "0.4730006514039481\n"
     ]
    }
   ],
   "source": [
    "import random\n",
    "\n",
    "display_random_number = random.random()\n",
    "print(display_random_number)  "
   ]
  },
  {
   "cell_type": "markdown",
   "metadata": {},
   "source": [
    "### 2: random.randint()"
   ]
  },
  {
   "cell_type": "code",
   "execution_count": 2,
   "metadata": {},
   "outputs": [
    {
     "name": "stdout",
     "output_type": "stream",
     "text": [
      "7\n"
     ]
    }
   ],
   "source": [
    "import random\n",
    "\n",
    "specific_random_series = random.randint(1,16)\n",
    "print(specific_random_series)   # will print random number between range of 1 to 16"
   ]
  },
  {
   "cell_type": "markdown",
   "metadata": {},
   "source": [
    "### 3: random.choice()"
   ]
  },
  {
   "cell_type": "code",
   "execution_count": 3,
   "metadata": {},
   "outputs": [
    {
     "name": "stdout",
     "output_type": "stream",
     "text": [
      "Have\n"
     ]
    }
   ],
   "source": [
    "import random\n",
    "\n",
    "my_list = ['Hello', 'Everyone', 'Have', 'a', 'great', 'day']\n",
    "choice_method = random.choice(my_list)\n",
    "print(choice_method)"
   ]
  },
  {
   "cell_type": "markdown",
   "metadata": {},
   "source": [
    "### 4: random.shuffle()"
   ]
  },
  {
   "cell_type": "code",
   "execution_count": 4,
   "metadata": {},
   "outputs": [
    {
     "name": "stdout",
     "output_type": "stream",
     "text": [
      "['apple', 'orange', 'banana', 'kiwi', 'watermelon', 'berries']\n"
     ]
    }
   ],
   "source": [
    "import random\n",
    "\n",
    "list1 = ['apple', 'kiwi', 'banana', 'orange', 'berries', 'watermelon']\n",
    "random.shuffle(list1)\n",
    "print(list1)"
   ]
  },
  {
   "cell_type": "markdown",
   "metadata": {},
   "source": [
    "### 5: random.setstate()"
   ]
  },
  {
   "cell_type": "code",
   "execution_count": 5,
   "metadata": {},
   "outputs": [
    {
     "name": "stdout",
     "output_type": "stream",
     "text": [
      "0.1804882088403963\n",
      "0.023912055988691283\n",
      "0.023912055988691283\n"
     ]
    }
   ],
   "source": [
    "import random\n",
    "\n",
    "print(random.random())\n",
    "current_state = random.getstate()\n",
    "print(random.random())\n",
    "random.setstate(current_state) \n",
    "print(random.random())"
   ]
  },
  {
   "cell_type": "markdown",
   "metadata": {},
   "source": [
    "# Password generator using random module"
   ]
  },
  {
   "cell_type": "code",
   "execution_count": 6,
   "metadata": {},
   "outputs": [
    {
     "name": "stdout",
     "output_type": "stream",
     "text": [
      "*5sQ7GuHw_Yy\n"
     ]
    }
   ],
   "source": [
    "import random \n",
    "\n",
    "maximum_length = 12\n",
    "num = '1234567890'\n",
    "lower_case = 'abcdefghijklmnopqrstuvwxyz'\n",
    "upper_case = 'ABCDEFGHIJKLMNOPQRSTUVWXYZ'\n",
    "special_char = '~!@#$%^&*_)(><?/:;\\/'\n",
    "\n",
    "list_of_all_char = num + lower_case + upper_case + special_char\n",
    "\n",
    "random_num = random.choice(num)\n",
    "random_lower_case = random.choice(lower_case)\n",
    "random_upper_case = random.choice(upper_case)\n",
    "random_special_char = random.choice(special_char)\n",
    "\n",
    "unique_char_pass = random_num + random_lower_case + random_upper_case + random_special_char\n",
    "\n",
    "for x in range(maximum_length - 4):\n",
    "    unique_char_pass = unique_char_pass + random.choice(list_of_all_char)\n",
    "    pass_list = list(unique_char_pass)\n",
    "    random.shuffle(pass_list)\n",
    "    \n",
    "password = \"\"\n",
    "for y in pass_list:\n",
    "    password = password + y\n",
    "\n",
    "    \n",
    "print(password)\n"
   ]
  },
  {
   "cell_type": "markdown",
   "metadata": {},
   "source": [
    "# Perform text to speech using gtts:"
   ]
  },
  {
   "cell_type": "code",
   "execution_count": 7,
   "metadata": {},
   "outputs": [
    {
     "name": "stdout",
     "output_type": "stream",
     "text": [
      "Requirement already satisfied: gTTS in c:\\programdata\\anaconda3\\lib\\site-packages (2.2.2)\n",
      "Requirement already satisfied: six in c:\\programdata\\anaconda3\\lib\\site-packages (from gTTS) (1.15.0)\n",
      "Requirement already satisfied: requests in c:\\programdata\\anaconda3\\lib\\site-packages (from gTTS) (2.24.0)\n",
      "Requirement already satisfied: click in c:\\programdata\\anaconda3\\lib\\site-packages (from gTTS) (7.1.2)\n",
      "Requirement already satisfied: certifi>=2017.4.17 in c:\\programdata\\anaconda3\\lib\\site-packages (from requests->gTTS) (2020.6.20)\n",
      "Requirement already satisfied: chardet<4,>=3.0.2 in c:\\programdata\\anaconda3\\lib\\site-packages (from requests->gTTS) (3.0.4)\n",
      "Requirement already satisfied: urllib3!=1.25.0,!=1.25.1,<1.26,>=1.21.1 in c:\\programdata\\anaconda3\\lib\\site-packages (from requests->gTTS) (1.25.9)\n",
      "Requirement already satisfied: idna<3,>=2.5 in c:\\programdata\\anaconda3\\lib\\site-packages (from requests->gTTS) (2.10)\n",
      "Note: you may need to restart the kernel to use updated packages.\n"
     ]
    }
   ],
   "source": [
    "pip install gTTS\n"
   ]
  },
  {
   "cell_type": "code",
   "execution_count": 9,
   "metadata": {},
   "outputs": [],
   "source": [
    "from gtts import gTTS\n",
    "best_wishes = gTTS(\"Best wishes to everyone out there!\")\n",
    "best_wishes.save(\"best_wishes.mp3\")"
   ]
  }
 ],
 "metadata": {
  "kernelspec": {
   "display_name": "Python 3",
   "language": "python",
   "name": "python3"
  },
  "language_info": {
   "codemirror_mode": {
    "name": "ipython",
    "version": 3
   },
   "file_extension": ".py",
   "mimetype": "text/x-python",
   "name": "python",
   "nbconvert_exporter": "python",
   "pygments_lexer": "ipython3",
   "version": "3.8.3"
  }
 },
 "nbformat": 4,
 "nbformat_minor": 4
}
