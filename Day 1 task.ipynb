{
 "cells": [
  {
   "cell_type": "code",
   "execution_count": 3,
   "metadata": {},
   "outputs": [
    {
     "name": "stdout",
     "output_type": "stream",
     "text": [
      "There are total 3 students in a class\n"
     ]
    }
   ],
   "source": [
    "print(\"There are total 3 students in a class\")"
   ]
  },
  {
   "cell_type": "code",
   "execution_count": 2,
   "metadata": {},
   "outputs": [
    {
     "name": "stdout",
     "output_type": "stream",
     "text": [
      "Enter a student name: abc\n",
      "Enter total number of subject: 3\n",
      "Enter your subjects marks: 4\n",
      "Enter your subjects marks: 3\n",
      "Enter your subjects marks: 3\n",
      "Your final Marks is: 10\n",
      "Enter a student name: xyz\n",
      "Enter total number of subject: 5\n",
      "Enter your subjects marks: 5\n",
      "Enter your subjects marks: 6\n",
      "Enter your subjects marks: 6\n",
      "Enter your subjects marks: 6\n",
      "Enter your subjects marks: 6\n",
      "Your final Marks is: 29\n",
      "Enter a student name: pqr\n",
      "Enter total number of subject: 2\n",
      "Enter your subjects marks: 3\n",
      "Enter your subjects marks: 5\n",
      "Your final Marks is: 8\n"
     ]
    }
   ],
   "source": [
    "for i in range(3):\n",
    "    name = input(\"Enter a student name: \")\n",
    "    subject = int(input(\"Enter total number of subject: \"))\n",
    "    total_marks = 0\n",
    "    for j in range(0, subject):\n",
    "        subject_marks = int(input(\"Enter your subjects marks: \"))\n",
    "        total_marks = total_marks + subject_marks\n",
    "    print(f\"Your final Marks is: {total_marks}\")"
   ]
  },
  {
   "cell_type": "code",
   "execution_count": null,
   "metadata": {},
   "outputs": [],
   "source": []
  }
 ],
 "metadata": {
  "kernelspec": {
   "display_name": "Python 3",
   "language": "python",
   "name": "python3"
  },
  "language_info": {
   "codemirror_mode": {
    "name": "ipython",
    "version": 3
   },
   "file_extension": ".py",
   "mimetype": "text/x-python",
   "name": "python",
   "nbconvert_exporter": "python",
   "pygments_lexer": "ipython3",
   "version": "3.8.3"
  }
 },
 "nbformat": 4,
 "nbformat_minor": 4
}
