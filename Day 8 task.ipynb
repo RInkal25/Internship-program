{
 "cells": [
  {
   "cell_type": "markdown",
   "metadata": {},
   "source": [
    "# TF-IDF"
   ]
  },
  {
   "cell_type": "code",
   "execution_count": 3,
   "metadata": {},
   "outputs": [],
   "source": [
    "from sklearn.feature_extraction.text import TfidfVectorizer\n",
    "sentences = [\"Hello, what is your name?\", \"Where do you live?\", \"List out your hobbies\", \"list out your technical skills\"]"
   ]
  },
  {
   "cell_type": "code",
   "execution_count": 4,
   "metadata": {},
   "outputs": [
    {
     "name": "stdout",
     "output_type": "stream",
     "text": [
      "  (0, 13)\t0.3040354937603708\n",
      "  (0, 10)\t0.4763303524167569\n",
      "  (0, 6)\t0.4763303524167569\n",
      "  (0, 3)\t0.4763303524167569\n",
      "  (0, 1)\t0.4763303524167569\n",
      "  (1, 12)\t0.5\n",
      "  (1, 11)\t0.5\n",
      "  (1, 5)\t0.5\n",
      "  (1, 0)\t0.5\n",
      "  (2, 13)\t0.3920525532545391\n",
      "  (2, 7)\t0.48426290003607125\n",
      "  (2, 4)\t0.48426290003607125\n",
      "  (2, 2)\t0.6142260844216119\n",
      "  (3, 13)\t0.3340674500232949\n",
      "  (3, 9)\t0.5233812152405496\n",
      "  (3, 8)\t0.5233812152405496\n",
      "  (3, 7)\t0.41263976171812644\n",
      "  (3, 4)\t0.41263976171812644\n",
      "{'hello': 1, 'what': 10, 'is': 3, 'your': 13, 'name': 6, 'where': 11, 'do': 0, 'you': 12, 'live': 5, 'list': 4, 'out': 7, 'hobbies': 2, 'technical': 9, 'skills': 8}\n"
     ]
    },
    {
     "data": {
      "text/plain": [
       "(4, 14)"
      ]
     },
     "execution_count": 4,
     "metadata": {},
     "output_type": "execute_result"
    }
   ],
   "source": [
    "vectors = TfidfVectorizer()\n",
    "vectors.fit(sentences)\n",
    "transform = vectors.transform(sentences)\n",
    "print(transform)\n",
    "print(vectors.vocabulary_)\n",
    "transform.shape"
   ]
  },
  {
   "cell_type": "code",
   "execution_count": null,
   "metadata": {},
   "outputs": [],
   "source": []
  }
 ],
 "metadata": {
  "kernelspec": {
   "display_name": "Python 3",
   "language": "python",
   "name": "python3"
  },
  "language_info": {
   "codemirror_mode": {
    "name": "ipython",
    "version": 3
   },
   "file_extension": ".py",
   "mimetype": "text/x-python",
   "name": "python",
   "nbconvert_exporter": "python",
   "pygments_lexer": "ipython3",
   "version": "3.8.3"
  }
 },
 "nbformat": 4,
 "nbformat_minor": 4
}
